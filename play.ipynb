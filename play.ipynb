{
 "cells": [
  {
   "cell_type": "code",
   "execution_count": 2,
   "metadata": {},
   "outputs": [],
   "source": [
    "import pandas as pd\n",
    "import seaborn as sns\n",
    "import numpy as np\n",
    "import matplotlib.pyplot as plt"
   ]
  },
  {
   "cell_type": "code",
   "execution_count": 3,
   "metadata": {},
   "outputs": [],
   "source": [
    "airlinesDf = pd.read_csv(\"airlines.csv\")"
   ]
  },
  {
   "cell_type": "code",
   "execution_count": 4,
   "metadata": {},
   "outputs": [],
   "source": [
    "airportsDf = pd.read_csv(\"airports.csv\")"
   ]
  },
  {
   "cell_type": "code",
   "execution_count": 5,
   "metadata": {},
   "outputs": [
    {
     "name": "stderr",
     "output_type": "stream",
     "text": [
      "C:\\Users\\Lenovo\\AppData\\Local\\Temp\\ipykernel_27704\\17542411.py:1: DtypeWarning: Columns (7,8) have mixed types. Specify dtype option on import or set low_memory=False.\n",
      "  flightsDf= pd.read_csv(\"flights.csv\")\n"
     ]
    }
   ],
   "source": [
    "flightsDf= pd.read_csv(\"flights.csv\")"
   ]
  },
  {
   "cell_type": "code",
   "execution_count": 6,
   "metadata": {},
   "outputs": [
    {
     "data": {
      "text/plain": [
       "B    48851\n",
       "A    25262\n",
       "C    15749\n",
       "D       22\n",
       "Name: CANCELLATION_REASON, dtype: int64"
      ]
     },
     "execution_count": 6,
     "metadata": {},
     "output_type": "execute_result"
    }
   ],
   "source": [
    "flightsDf['CANCELLATION_REASON'].value_counts()"
   ]
  },
  {
   "cell_type": "code",
   "execution_count": 7,
   "metadata": {},
   "outputs": [
    {
     "data": {
      "text/plain": [
       "Index(['YEAR', 'MONTH', 'DAY', 'DAY_OF_WEEK', 'AIRLINE', 'FLIGHT_NUMBER',\n",
       "       'TAIL_NUMBER', 'ORIGIN_AIRPORT', 'DESTINATION_AIRPORT',\n",
       "       'SCHEDULED_DEPARTURE', 'DEPARTURE_TIME', 'DEPARTURE_DELAY', 'TAXI_OUT',\n",
       "       'WHEELS_OFF', 'SCHEDULED_TIME', 'ELAPSED_TIME', 'AIR_TIME', 'DISTANCE',\n",
       "       'WHEELS_ON', 'TAXI_IN', 'SCHEDULED_ARRIVAL', 'ARRIVAL_TIME',\n",
       "       'ARRIVAL_DELAY', 'DIVERTED', 'CANCELLED', 'CANCELLATION_REASON',\n",
       "       'AIR_SYSTEM_DELAY', 'SECURITY_DELAY', 'AIRLINE_DELAY',\n",
       "       'LATE_AIRCRAFT_DELAY', 'WEATHER_DELAY'],\n",
       "      dtype='object')"
      ]
     },
     "execution_count": 7,
     "metadata": {},
     "output_type": "execute_result"
    }
   ],
   "source": [
    "flightsDf.columns"
   ]
  },
  {
   "cell_type": "code",
   "execution_count": 9,
   "metadata": {},
   "outputs": [],
   "source": [
    "tempmerge = pd.merge(flightsDf,airlinesDf,how = 'left')"
   ]
  },
  {
   "cell_type": "code",
   "execution_count": 10,
   "metadata": {},
   "outputs": [],
   "source": [
    "df = pd.merge(tempmerge,airportsDf,how= 'left')"
   ]
  },
  {
   "cell_type": "code",
   "execution_count": 11,
   "metadata": {},
   "outputs": [
    {
     "data": {
      "text/plain": [
       "YEAR                     0.000000\n",
       "MONTH                    0.000000\n",
       "DAY                      0.000000\n",
       "DAY_OF_WEEK              0.000000\n",
       "AIRLINE                  0.000000\n",
       "FLIGHT_NUMBER            0.000000\n",
       "TAIL_NUMBER              0.252978\n",
       "ORIGIN_AIRPORT           0.000000\n",
       "DESTINATION_AIRPORT      0.000000\n",
       "SCHEDULED_DEPARTURE      0.000000\n",
       "DEPARTURE_TIME           1.480526\n",
       "DEPARTURE_DELAY          1.480526\n",
       "TAXI_OUT                 1.530259\n",
       "WHEELS_OFF               1.530259\n",
       "SCHEDULED_TIME           0.000103\n",
       "ELAPSED_TIME             1.805629\n",
       "AIR_TIME                 1.805629\n",
       "DISTANCE                 0.000000\n",
       "WHEELS_ON                1.589822\n",
       "TAXI_IN                  1.589822\n",
       "SCHEDULED_ARRIVAL        0.000000\n",
       "ARRIVAL_TIME             1.589822\n",
       "ARRIVAL_DELAY            1.805629\n",
       "DIVERTED                 0.000000\n",
       "CANCELLED                0.000000\n",
       "CANCELLATION_REASON     98.455357\n",
       "AIR_SYSTEM_DELAY        81.724960\n",
       "SECURITY_DELAY          81.724960\n",
       "AIRLINE_DELAY           81.724960\n",
       "LATE_AIRCRAFT_DELAY     81.724960\n",
       "WEATHER_DELAY           81.724960\n",
       "IATA_CODE              100.000000\n",
       "AIRPORT                100.000000\n",
       "CITY                   100.000000\n",
       "STATE                  100.000000\n",
       "COUNTRY                100.000000\n",
       "LATITUDE               100.000000\n",
       "LONGITUDE              100.000000\n",
       "dtype: float64"
      ]
     },
     "execution_count": 11,
     "metadata": {},
     "output_type": "execute_result"
    }
   ],
   "source": [
    "percent_missing = df.isnull().sum() * 100 / len(df)\n",
    "percent_missing "
   ]
  }
 ],
 "metadata": {
  "kernelspec": {
   "display_name": "Python 3",
   "language": "python",
   "name": "python3"
  },
  "language_info": {
   "codemirror_mode": {
    "name": "ipython",
    "version": 3
   },
   "file_extension": ".py",
   "mimetype": "text/x-python",
   "name": "python",
   "nbconvert_exporter": "python",
   "pygments_lexer": "ipython3",
   "version": "3.10.4"
  },
  "orig_nbformat": 4,
  "vscode": {
   "interpreter": {
    "hash": "369f2c481f4da34e4445cda3fffd2e751bd1c4d706f27375911949ba6bb62e1c"
   }
  }
 },
 "nbformat": 4,
 "nbformat_minor": 2
}
