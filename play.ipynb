{
 "cells": [
  {
   "cell_type": "code",
   "execution_count": 29,
   "metadata": {},
   "outputs": [],
   "source": [
    "import pandas as pd\n",
    "import seaborn as sns\n",
    "import numpy as np\n",
    "import matplotlib.pyplot as plt\n",
    "from sklearn.linear_model import LinearRegression\n"
   ]
  },
  {
   "cell_type": "code",
   "execution_count": 2,
   "metadata": {},
   "outputs": [],
   "source": [
    "airlinesDf = pd.read_csv(\"airlines.csv\")"
   ]
  },
  {
   "cell_type": "code",
   "execution_count": 3,
   "metadata": {},
   "outputs": [],
   "source": [
    "airportsDf = pd.read_csv(\"airports.csv\")"
   ]
  },
  {
   "cell_type": "code",
   "execution_count": 4,
   "metadata": {},
   "outputs": [
    {
     "name": "stderr",
     "output_type": "stream",
     "text": [
      "C:\\Users\\moham\\AppData\\Local\\Temp\\ipykernel_5844\\17542411.py:1: DtypeWarning: Columns (7,8) have mixed types. Specify dtype option on import or set low_memory=False.\n",
      "  flightsDf= pd.read_csv(\"flights.csv\")\n"
     ]
    }
   ],
   "source": [
    "flightsDf= pd.read_csv(\"flights.csv\")"
   ]
  },
  {
   "cell_type": "code",
   "execution_count": 5,
   "metadata": {},
   "outputs": [
    {
     "data": {
      "text/plain": [
       "B    48851\n",
       "A    25262\n",
       "C    15749\n",
       "D       22\n",
       "Name: CANCELLATION_REASON, dtype: int64"
      ]
     },
     "execution_count": 5,
     "metadata": {},
     "output_type": "execute_result"
    }
   ],
   "source": [
    "flightsDf['CANCELLATION_REASON'].value_counts()"
   ]
  },
  {
   "cell_type": "code",
   "execution_count": 6,
   "metadata": {},
   "outputs": [],
   "source": [
    "tempmerge = pd.merge(flightsDf,airlinesDf, left_on= 'AIRLINE',right_on='IATA_CODE')"
   ]
  },
  {
   "cell_type": "code",
   "execution_count": 7,
   "metadata": {},
   "outputs": [],
   "source": [
    "tempmerge2 = pd.merge(tempmerge,airportsDf,left_on='ORIGIN_AIRPORT',right_on= 'IATA_CODE')"
   ]
  },
  {
   "cell_type": "code",
   "execution_count": 8,
   "metadata": {},
   "outputs": [],
   "source": [
    "df = pd.merge(tempmerge2,airportsDf,left_on='DESTINATION_AIRPORT',right_on= 'IATA_CODE')"
   ]
  },
  {
   "cell_type": "code",
   "execution_count": 9,
   "metadata": {},
   "outputs": [],
   "source": [
    "df.rename(columns={'CITY_x': 'ORIGIN_CITY','AIRLINE_x':'AIRLINE','STATE_x':'ORIGIN_STATE',\n",
    "'LATITUDE_x':'ORIGIN_LATITUDE','LONGITUDE_x':'ORIGIN_LONGITUDE','CITY_y': 'DESTINATION_CITY',\n",
    "'STATE_y':'DESTINATION_STATE','LATITUDE_y':'DESTINATION_LATITUDE',\n",
    "'LONGITUDE_y':'DESTINATION_LONGITUDE'},inplace=True)"
   ]
  },
  {
   "cell_type": "code",
   "execution_count": 10,
   "metadata": {},
   "outputs": [],
   "source": [
    "df[\"DATE\"] = df['DAY'].astype(str) +\"-\"+ df[\"MONTH\"].astype(str) + \"-\" + df['YEAR'].astype(str)\n"
   ]
  },
  {
   "cell_type": "code",
   "execution_count": 11,
   "metadata": {},
   "outputs": [
    {
     "name": "stderr",
     "output_type": "stream",
     "text": [
      "C:\\Users\\moham\\AppData\\Local\\Temp\\ipykernel_5844\\2541906660.py:1: UserWarning: Parsing dates in DD/MM/YYYY format when dayfirst=False (the default) was specified. This may lead to inconsistently parsed dates! Specify a format to ensure consistent parsing.\n",
      "  df['DATE'] = pd.to_datetime(df['DATE'])\n"
     ]
    }
   ],
   "source": [
    "df['DATE'] = pd.to_datetime(df['DATE'])"
   ]
  },
  {
   "cell_type": "code",
   "execution_count": 12,
   "metadata": {},
   "outputs": [],
   "source": [
    "df.drop(['DAY','MONTH','YEAR','DAY_OF_WEEK','IATA_CODE_x','TAIL_NUMBER','IATA_CODE_y','IATA_CODE','CANCELLATION_REASON','AIR_SYSTEM_DELAY','SECURITY_DELAY',\n",
    "'AIRLINE_DELAY','LATE_AIRCRAFT_DELAY','WEATHER_DELAY','AIRLINE_y','AIRPORT_x','AIRPORT_y','COUNTRY_y','COUNTRY_x'],axis=1,inplace=True)"
   ]
  },
  {
   "cell_type": "code",
   "execution_count": 13,
   "metadata": {},
   "outputs": [],
   "source": [
    "# import pandas as pd\n",
    "# import numpy as np\n",
    "\n",
    "# d1 = {'Name': ['Pankaj', 'Meghna', 'David', pd.NaT], 'ID': [1, 2, pd.NaT, pd.NaT], 'Salary': [100, 200, np.nan, pd.NaT],\n",
    "#       'Role': [np.nan, np.nan, pd.NaT, pd.NaT]}\n",
    "\n",
    "# df = pd.DataFrame(d1)\n",
    "\n",
    "# print(df)\n",
    "\n",
    "# df1 = df.dropna(thresh=1)\n",
    "# print(df1)"
   ]
  },
  {
   "cell_type": "code",
   "execution_count": 14,
   "metadata": {},
   "outputs": [
    {
     "data": {
      "text/plain": [
       "AIRLINE                  0.000000\n",
       "FLIGHT_NUMBER            0.000000\n",
       "ORIGIN_AIRPORT           0.000000\n",
       "DESTINATION_AIRPORT      0.000000\n",
       "SCHEDULED_DEPARTURE      0.000000\n",
       "DEPARTURE_TIME           1.571636\n",
       "DEPARTURE_DELAY          1.571636\n",
       "TAXI_OUT                 1.624103\n",
       "WHEELS_OFF               1.624103\n",
       "SCHEDULED_TIME           0.000113\n",
       "ELAPSED_TIME             1.908600\n",
       "AIR_TIME                 1.908600\n",
       "DISTANCE                 0.000000\n",
       "WHEELS_ON                1.686545\n",
       "TAXI_IN                  1.686545\n",
       "SCHEDULED_ARRIVAL        0.000000\n",
       "ARRIVAL_TIME             1.686545\n",
       "ARRIVAL_DELAY            1.908600\n",
       "DIVERTED                 0.000000\n",
       "CANCELLED                0.000000\n",
       "ORIGIN_CITY              0.000000\n",
       "ORIGIN_STATE             0.000000\n",
       "ORIGIN_LATITUDE          0.086351\n",
       "ORIGIN_LONGITUDE         0.086351\n",
       "DESTINATION_CITY         0.000000\n",
       "DESTINATION_STATE        0.000000\n",
       "DESTINATION_LATITUDE     0.086444\n",
       "DESTINATION_LONGITUDE    0.086444\n",
       "DATE                     0.000000\n",
       "dtype: float64"
      ]
     },
     "execution_count": 14,
     "metadata": {},
     "output_type": "execute_result"
    }
   ],
   "source": [
    "percent_missing = df.isnull().sum() * 100 / len(df)\n",
    "percent_missing "
   ]
  },
  {
   "cell_type": "code",
   "execution_count": 15,
   "metadata": {},
   "outputs": [],
   "source": [
    "# from math import radians, cos, sin, asin, sqrt\n",
    "# def distance(lat1, lat2, lon1, lon2):\n",
    "     \n",
    "#     # The math module contains a function named\n",
    "#     # radians which converts from degrees to radians.\n",
    "#     lon1 = radians(lon1)\n",
    "#     lon2 = radians(lon2)\n",
    "#     lat1 = radians(lat1)\n",
    "#     lat2 = radians(lat2)\n",
    "      \n",
    "#     # Haversine formula\n",
    "#     dlon = lon2 - lon1\n",
    "#     dlat = lat2 - lat1\n",
    "#     a = sin(dlat / 2)**2 + cos(lat1) * cos(lat2) * sin(dlon / 2)**2\n",
    " \n",
    "#     c = 2 * asin(sqrt(a))\n",
    "    \n",
    "#     # Radius of earth in kilometers. Use 3956 for miles\n",
    "#     r = 6371\n",
    "      \n",
    "#     # calculate the result\n",
    "#     return(c * r)\n",
    "\n",
    "# lat1 = 61.17432\n",
    "# lat2 = 47.44898\n",
    "# lon1 = -149.99619\n",
    "# lon2 =  -122.30931\n",
    "# print(distance(lat1, lat2, lon1, lon2), \"K.M\")"
   ]
  },
  {
   "cell_type": "code",
   "execution_count": 16,
   "metadata": {},
   "outputs": [
    {
     "data": {
      "text/plain": [
       "Index(['AIRLINE', 'FLIGHT_NUMBER', 'ORIGIN_AIRPORT', 'DESTINATION_AIRPORT',\n",
       "       'SCHEDULED_DEPARTURE', 'DEPARTURE_TIME', 'DEPARTURE_DELAY', 'TAXI_OUT',\n",
       "       'WHEELS_OFF', 'SCHEDULED_TIME', 'ELAPSED_TIME', 'AIR_TIME', 'DISTANCE',\n",
       "       'WHEELS_ON', 'TAXI_IN', 'SCHEDULED_ARRIVAL', 'ARRIVAL_TIME',\n",
       "       'ARRIVAL_DELAY', 'DIVERTED', 'CANCELLED', 'ORIGIN_CITY', 'ORIGIN_STATE',\n",
       "       'ORIGIN_LATITUDE', 'ORIGIN_LONGITUDE', 'DESTINATION_CITY',\n",
       "       'DESTINATION_STATE', 'DESTINATION_LATITUDE', 'DESTINATION_LONGITUDE',\n",
       "       'DATE'],\n",
       "      dtype='object')"
      ]
     },
     "execution_count": 16,
     "metadata": {},
     "output_type": "execute_result"
    }
   ],
   "source": [
    "df.columns"
   ]
  },
  {
   "cell_type": "code",
   "execution_count": 53,
   "metadata": {},
   "outputs": [],
   "source": [
    "df2 = df.dropna(thresh=27)"
   ]
  },
  {
   "cell_type": "code",
   "execution_count": 47,
   "metadata": {},
   "outputs": [
    {
     "data": {
      "text/plain": [
       "(5332914, 29)"
      ]
     },
     "execution_count": 47,
     "metadata": {},
     "output_type": "execute_result"
    }
   ],
   "source": [
    "df.shape"
   ]
  },
  {
   "cell_type": "code",
   "execution_count": 51,
   "metadata": {},
   "outputs": [
    {
     "data": {
      "text/plain": [
       "(5222000, 29)"
      ]
     },
     "execution_count": 51,
     "metadata": {},
     "output_type": "execute_result"
    }
   ],
   "source": [
    "df2.shape#5222000"
   ]
  },
  {
   "cell_type": "code",
   "execution_count": 54,
   "metadata": {},
   "outputs": [
    {
     "data": {
      "text/plain": [
       "AIRLINE                  0.000000\n",
       "FLIGHT_NUMBER            0.000000\n",
       "ORIGIN_AIRPORT           0.000000\n",
       "DESTINATION_AIRPORT      0.000000\n",
       "SCHEDULED_DEPARTURE      0.000000\n",
       "DEPARTURE_TIME           0.000000\n",
       "DEPARTURE_DELAY          0.000000\n",
       "TAXI_OUT                 0.000000\n",
       "WHEELS_OFF               0.000000\n",
       "SCHEDULED_TIME           0.000000\n",
       "ELAPSED_TIME             0.000000\n",
       "AIR_TIME                 0.000000\n",
       "DISTANCE                 0.000000\n",
       "WHEELS_ON                0.000000\n",
       "TAXI_IN                  0.000000\n",
       "SCHEDULED_ARRIVAL        0.000000\n",
       "ARRIVAL_TIME             0.000000\n",
       "ARRIVAL_DELAY            0.000000\n",
       "DIVERTED                 0.000000\n",
       "CANCELLED                0.000000\n",
       "ORIGIN_CITY              0.000000\n",
       "ORIGIN_STATE             0.000000\n",
       "ORIGIN_LATITUDE          0.087190\n",
       "ORIGIN_LONGITUDE         0.087190\n",
       "DESTINATION_CITY         0.000000\n",
       "DESTINATION_STATE        0.000000\n",
       "DESTINATION_LATITUDE     0.087343\n",
       "DESTINATION_LONGITUDE    0.087343\n",
       "DATE                     0.000000\n",
       "dtype: float64"
      ]
     },
     "execution_count": 54,
     "metadata": {},
     "output_type": "execute_result"
    }
   ],
   "source": [
    "percent_missing = df2.isnull().sum() * 100 / len(df2)\n",
    "percent_missing "
   ]
  },
  {
   "cell_type": "code",
   "execution_count": 32,
   "metadata": {},
   "outputs": [],
   "source": [
    "# x_train = df.loc[df['DEPARTURE_TIME'].notnull()]\n",
    "# x_test = df.loc[df['DEPARTURE_TIME'].isnull()]\n",
    "\n",
    "# x_train = x_train.select_dtypes(exclude=['object','datetime64[ns]'])\n",
    "# x_train = x_train.drop(['DEPARTURE_DELAY','TAXI_OUT','WHEELS_OFF','SCHEDULED_TIME','ELAPSED_TIME','AIR_TIME','WHEELS_ON','TAXI_IN','ARRIVAL_TIME',\n",
    "# 'ARRIVAL_DELAY','ORIGIN_LATITUDE','ORIGIN_LONGITUDE','DESTINATION_LATITUDE','DESTINATION_LONGITUDE','DEPARTURE_TIME'],axis=1).copy()\n",
    "\n",
    "# x_test = x_test.select_dtypes(exclude=['object','datetime64[ns]'])\n",
    "# x_test = x_test.drop(['DEPARTURE_DELAY','TAXI_OUT','WHEELS_OFF','SCHEDULED_TIME','ELAPSED_TIME','AIR_TIME','WHEELS_ON','TAXI_IN','ARRIVAL_TIME',\n",
    "# 'ARRIVAL_DELAY','ORIGIN_LATITUDE','ORIGIN_LONGITUDE','DESTINATION_LATITUDE','DESTINATION_LONGITUDE','DEPARTURE_TIME'],axis=1).copy()\n",
    "\n",
    "\n",
    "# y_train = df.loc[df['DEPARTURE_TIME'].notnull()]\n",
    "# y_test = df.loc[df['DEPARTURE_TIME'].isnull()]\n",
    "\n",
    "# y_train = y_train[['DEPARTURE_TIME']]\n",
    "# y_test = y_test[['DEPARTURE_TIME']]\n",
    "\n",
    "\n",
    "# model = LinearRegression()\n",
    "# model.fit(x_train, y_train)\n",
    "\n",
    "# y_pred = model.predict(x_test)"
   ]
  }
 ],
 "metadata": {
  "kernelspec": {
   "display_name": "Python 3",
   "language": "python",
   "name": "python3"
  },
  "language_info": {
   "codemirror_mode": {
    "name": "ipython",
    "version": 3
   },
   "file_extension": ".py",
   "mimetype": "text/x-python",
   "name": "python",
   "nbconvert_exporter": "python",
   "pygments_lexer": "ipython3",
   "version": "3.10.6"
  },
  "orig_nbformat": 4,
  "vscode": {
   "interpreter": {
    "hash": "42ac2bbbda3723635b4d79812a5d5c7fd30e1eda2aeaadb4b3ca1545733c2df7"
   }
  }
 },
 "nbformat": 4,
 "nbformat_minor": 2
}
